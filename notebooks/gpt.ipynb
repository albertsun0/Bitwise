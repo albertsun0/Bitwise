{
 "cells": [
  {
   "cell_type": "code",
   "execution_count": 8,
   "metadata": {},
   "outputs": [
    {
     "name": "stdout",
     "output_type": "stream",
     "text": [
      "\n",
      "\u001b[1m[\u001b[0m\u001b[34;49mnotice\u001b[0m\u001b[1;39;49m]\u001b[0m\u001b[39;49m A new release of pip is available: \u001b[0m\u001b[31;49m24.0\u001b[0m\u001b[39;49m -> \u001b[0m\u001b[32;49m24.3.1\u001b[0m\n",
      "\u001b[1m[\u001b[0m\u001b[34;49mnotice\u001b[0m\u001b[1;39;49m]\u001b[0m\u001b[39;49m To update, run: \u001b[0m\u001b[32;49m/Library/Developer/CommandLineTools/usr/bin/python3 -m pip install --upgrade pip\u001b[0m\n",
      "Note: you may need to restart the kernel to use updated packages.\n"
     ]
    }
   ],
   "source": [
    "%pip install -q -U google-generativeai"
   ]
  },
  {
   "cell_type": "code",
   "execution_count": 2,
   "metadata": {},
   "outputs": [],
   "source": [
    "import os\n",
    "import dotenv\n",
    "dotenv.load_dotenv(\".env\", override=True)\n",
    "import google.generativeai as genai\n",
    "from string import Template\n",
    "import json\n"
   ]
  },
  {
   "cell_type": "code",
   "execution_count": 3,
   "metadata": {},
   "outputs": [],
   "source": [
    "GEMINI_API_KEY = os.getenv('GEMINI_API_KEY')\n",
    "genai.configure(api_key=GEMINI_API_KEY)"
   ]
  },
  {
   "cell_type": "code",
   "execution_count": 4,
   "metadata": {},
   "outputs": [],
   "source": [
    "model = genai.GenerativeModel(\"gemini-1.5-flash\")"
   ]
  },
  {
   "cell_type": "code",
   "execution_count": 29,
   "metadata": {},
   "outputs": [],
   "source": [
    "SYSTEM_PROMPT = \"\"\"\n",
    "You are an app whos goal is to help a user learn about system design. You will generate articles related to subtopics a user is asking about. The user's familiarity of each topic will be beginner level.\n",
    "\n",
    "Write an article explaining the technology behind $topic.\n",
    "\n",
    "RETURN ONLY THIS RESPONSE JSON AND NOTHING ELSE:\n",
    "\n",
    "{\"response\": <YOUR RESPONSE HERE>, \"related\": [<RELATED KEYWORD1>, <RELATED KEYWORD2>, ...] }\n",
    "\"\"\"\n",
    "\n",
    "SYSTEM_PROMPT_TEMPLATE = Template(SYSTEM_PROMPT)"
   ]
  },
  {
   "cell_type": "code",
   "execution_count": 32,
   "metadata": {},
   "outputs": [],
   "source": [
    "topic = \"Bistro\"\n",
    "prompt = SYSTEM_PROMPT_TEMPLATE.safe_substitute(topic=topic)\n",
    "response = model.generate_content(prompt)"
   ]
  },
  {
   "cell_type": "code",
   "execution_count": 33,
   "metadata": {},
   "outputs": [
    {
     "name": "stdout",
     "output_type": "stream",
     "text": [
      "## Bistro: A Taste of Distributed Databases\n",
      "\n",
      "Bistro isn't just a fancy restaurant. It's a cutting-edge, distributed database management system designed for handling massive amounts of data across multiple servers. Let's break down its key components:\n",
      "\n",
      "**1. Distributed Architecture:**  Bistro's strength lies in its distributed nature.  Instead of storing all data on a single server, it splits the data across multiple servers, each handling a specific subset. This distributes the load and provides high availability. If one server fails, the others can continue operating, ensuring your data remains accessible.\n",
      "\n",
      "**2. Data Partitioning:**  To distribute data effectively, Bistro uses a technique called **data partitioning**.  It divides the data into smaller chunks (partitions) and distributes them across different servers. This allows for parallel processing, improving query performance.  \n",
      "\n",
      "**3. Replication:** Bistro replicates data across multiple servers to ensure data redundancy and high availability. If one server goes down, the replicated data on other servers ensures that your application can continue to function smoothly.\n",
      "\n",
      "**4. Consistency Model:** Bistro employs a **relaxed consistency model**. This means that data might not be immediately consistent across all servers, but it guarantees eventual consistency. This approach prioritizes performance and availability over strict, immediate consistency.\n",
      "\n",
      "**5. Fault Tolerance:**  Bistro is built to be resilient to failures. If one server fails, other servers can take over its responsibilities. This fault tolerance ensures that your data remains safe and accessible even in the face of unexpected issues.\n",
      "\n",
      "**Key Benefits:**\n",
      "\n",
      "* **Scalability:** Bistro's distributed architecture allows it to handle massive amounts of data and users without sacrificing performance.\n",
      "* **High Availability:** Data replication and fault tolerance guarantee that your application remains available even if one or more servers fail.\n",
      "* **Cost-Effectiveness:** By using multiple servers, Bistro can reduce the overall cost of hardware and infrastructure compared to traditional, centralized databases.\n",
      "\n",
      "**Think of Bistro like a highly organized restaurant kitchen. Each server is a chef responsible for preparing specific dishes (data partitions). The chefs work together seamlessly, ensuring that the dishes are prepared efficiently and served promptly (data is accessed quickly and reliably).  This collaborative approach makes Bistro a powerful and efficient solution for managing large amounts of data in today's distributed world.**\n",
      "\n",
      "**Note:** Bistro is a hypothetical system used for educational purposes. Real-world distributed database systems like Cassandra, MongoDB, and CockroachDB utilize similar concepts but have their own unique features and implementations. ['distributed databases', 'data partitioning', 'replication', 'consistency models', 'fault tolerance', 'scalability', 'high availability', 'cassandra', 'mongodb', 'cockroachdb']\n"
     ]
    }
   ],
   "source": [
    "res = response.text.strip('`\\njson')\n",
    "res = json.loads(res)\n",
    "print(res['response'], res['related'])\n"
   ]
  },
  {
   "cell_type": "code",
   "execution_count": null,
   "metadata": {},
   "outputs": [],
   "source": []
  }
 ],
 "metadata": {
  "kernelspec": {
   "display_name": "Python 3",
   "language": "python",
   "name": "python3"
  },
  "language_info": {
   "codemirror_mode": {
    "name": "ipython",
    "version": 3
   },
   "file_extension": ".py",
   "mimetype": "text/x-python",
   "name": "python",
   "nbconvert_exporter": "python",
   "pygments_lexer": "ipython3",
   "version": "3.9.6"
  }
 },
 "nbformat": 4,
 "nbformat_minor": 2
}
