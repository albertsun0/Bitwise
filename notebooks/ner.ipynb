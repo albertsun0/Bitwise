{
 "cells": [
  {
   "cell_type": "markdown",
   "metadata": {},
   "source": [
    "#### Named Entity Recognition\n",
    "\n",
    "Subtask of keyword extraction, classifies named entities into buckets"
   ]
  },
  {
   "cell_type": "code",
   "execution_count": 2,
   "metadata": {},
   "outputs": [
    {
     "name": "stdout",
     "output_type": "stream",
     "text": [
      "Defaulting to user installation because normal site-packages is not writeable\n",
      "Collecting numpy==1.26.4\n",
      "  Using cached numpy-1.26.4-cp39-cp39-macosx_11_0_arm64.whl.metadata (61 kB)\n",
      "Using cached numpy-1.26.4-cp39-cp39-macosx_11_0_arm64.whl (14.0 MB)\n",
      "Installing collected packages: numpy\n",
      "  Attempting uninstall: numpy\n",
      "    Found existing installation: numpy 2.0.2\n",
      "    Uninstalling numpy-2.0.2:\n",
      "      Successfully uninstalled numpy-2.0.2\n",
      "\u001b[31mERROR: pip's dependency resolver does not currently take into account all the packages that are installed. This behaviour is the source of the following dependency conflicts.\n",
      "blis 1.0.1 requires numpy<3.0.0,>=2.0.0, but you have numpy 1.26.4 which is incompatible.\n",
      "thinc 8.3.2 requires numpy<2.1.0,>=2.0.0; python_version >= \"3.9\", but you have numpy 1.26.4 which is incompatible.\u001b[0m\u001b[31m\n",
      "\u001b[0mSuccessfully installed numpy-1.26.4\n",
      "\n",
      "\u001b[1m[\u001b[0m\u001b[34;49mnotice\u001b[0m\u001b[1;39;49m]\u001b[0m\u001b[39;49m A new release of pip is available: \u001b[0m\u001b[31;49m24.0\u001b[0m\u001b[39;49m -> \u001b[0m\u001b[32;49m24.3.1\u001b[0m\n",
      "\u001b[1m[\u001b[0m\u001b[34;49mnotice\u001b[0m\u001b[1;39;49m]\u001b[0m\u001b[39;49m To update, run: \u001b[0m\u001b[32;49m/Library/Developer/CommandLineTools/usr/bin/python3 -m pip install --upgrade pip\u001b[0m\n",
      "Note: you may need to restart the kernel to use updated packages.\n"
     ]
    }
   ],
   "source": [
    "# %pip install spacy\n",
    "%pip install numpy==1.26.4"
   ]
  },
  {
   "cell_type": "code",
   "execution_count": 13,
   "metadata": {},
   "outputs": [
    {
     "name": "stdout",
     "output_type": "stream",
     "text": [
      "Defaulting to user installation because normal site-packages is not writeable\n",
      "Collecting spacy-transformers\n",
      "  Downloading spacy_transformers-1.3.5-cp39-cp39-macosx_11_0_arm64.whl.metadata (7.0 kB)\n",
      "Requirement already satisfied: spacy<4.1.0,>=3.5.0 in /Users/albertsun/Library/Python/3.9/lib/python/site-packages (from spacy-transformers) (3.8.2)\n",
      "Collecting transformers<4.37.0,>=3.4.0 (from spacy-transformers)\n",
      "  Downloading transformers-4.36.2-py3-none-any.whl.metadata (126 kB)\n",
      "\u001b[2K     \u001b[90m━━━━━━━━━━━━━━━━━━━━━━━━━━━━━━━━━━━━━━━\u001b[0m \u001b[32m126.8/126.8 kB\u001b[0m \u001b[31m3.4 MB/s\u001b[0m eta \u001b[36m0:00:00\u001b[0m\n",
      "\u001b[?25hRequirement already satisfied: torch>=1.8.0 in /Users/albertsun/Library/Python/3.9/lib/python/site-packages (from spacy-transformers) (2.1.1)\n",
      "Requirement already satisfied: srsly<3.0.0,>=2.4.0 in /Users/albertsun/Library/Python/3.9/lib/python/site-packages (from spacy-transformers) (2.4.8)\n",
      "Collecting spacy-alignments<1.0.0,>=0.7.2 (from spacy-transformers)\n",
      "  Downloading spacy_alignments-0.9.1-cp39-cp39-macosx_11_0_arm64.whl.metadata (2.7 kB)\n",
      "Requirement already satisfied: numpy>=1.19.0 in /Users/albertsun/Library/Python/3.9/lib/python/site-packages (from spacy-transformers) (1.26.4)\n",
      "Requirement already satisfied: spacy-legacy<3.1.0,>=3.0.11 in /Users/albertsun/Library/Python/3.9/lib/python/site-packages (from spacy<4.1.0,>=3.5.0->spacy-transformers) (3.0.12)\n",
      "Requirement already satisfied: spacy-loggers<2.0.0,>=1.0.0 in /Users/albertsun/Library/Python/3.9/lib/python/site-packages (from spacy<4.1.0,>=3.5.0->spacy-transformers) (1.0.5)\n",
      "Requirement already satisfied: murmurhash<1.1.0,>=0.28.0 in /Users/albertsun/Library/Python/3.9/lib/python/site-packages (from spacy<4.1.0,>=3.5.0->spacy-transformers) (1.0.10)\n",
      "Requirement already satisfied: cymem<2.1.0,>=2.0.2 in /Users/albertsun/Library/Python/3.9/lib/python/site-packages (from spacy<4.1.0,>=3.5.0->spacy-transformers) (2.0.8)\n",
      "Requirement already satisfied: preshed<3.1.0,>=3.0.2 in /Users/albertsun/Library/Python/3.9/lib/python/site-packages (from spacy<4.1.0,>=3.5.0->spacy-transformers) (3.0.9)\n",
      "Requirement already satisfied: thinc<8.4.0,>=8.3.0 in /Users/albertsun/Library/Python/3.9/lib/python/site-packages (from spacy<4.1.0,>=3.5.0->spacy-transformers) (8.3.2)\n",
      "Requirement already satisfied: wasabi<1.2.0,>=0.9.1 in /Users/albertsun/Library/Python/3.9/lib/python/site-packages (from spacy<4.1.0,>=3.5.0->spacy-transformers) (1.1.3)\n",
      "Requirement already satisfied: catalogue<2.1.0,>=2.0.6 in /Users/albertsun/Library/Python/3.9/lib/python/site-packages (from spacy<4.1.0,>=3.5.0->spacy-transformers) (2.0.10)\n",
      "Requirement already satisfied: weasel<0.5.0,>=0.1.0 in /Users/albertsun/Library/Python/3.9/lib/python/site-packages (from spacy<4.1.0,>=3.5.0->spacy-transformers) (0.4.1)\n",
      "Requirement already satisfied: typer<1.0.0,>=0.3.0 in /Users/albertsun/Library/Python/3.9/lib/python/site-packages (from spacy<4.1.0,>=3.5.0->spacy-transformers) (0.13.0)\n",
      "Requirement already satisfied: tqdm<5.0.0,>=4.38.0 in /Users/albertsun/Library/Python/3.9/lib/python/site-packages (from spacy<4.1.0,>=3.5.0->spacy-transformers) (4.65.0)\n",
      "Requirement already satisfied: requests<3.0.0,>=2.13.0 in /Users/albertsun/Library/Python/3.9/lib/python/site-packages (from spacy<4.1.0,>=3.5.0->spacy-transformers) (2.31.0)\n",
      "Requirement already satisfied: pydantic!=1.8,!=1.8.1,<3.0.0,>=1.7.4 in /Users/albertsun/Library/Python/3.9/lib/python/site-packages (from spacy<4.1.0,>=3.5.0->spacy-transformers) (2.5.3)\n",
      "Requirement already satisfied: jinja2 in /Users/albertsun/Library/Python/3.9/lib/python/site-packages (from spacy<4.1.0,>=3.5.0->spacy-transformers) (3.1.2)\n",
      "Requirement already satisfied: setuptools in /Users/albertsun/Library/Python/3.9/lib/python/site-packages (from spacy<4.1.0,>=3.5.0->spacy-transformers) (60.10.0)\n",
      "Requirement already satisfied: packaging>=20.0 in /Users/albertsun/Library/Python/3.9/lib/python/site-packages (from spacy<4.1.0,>=3.5.0->spacy-transformers) (23.1)\n",
      "Requirement already satisfied: langcodes<4.0.0,>=3.2.0 in /Users/albertsun/Library/Python/3.9/lib/python/site-packages (from spacy<4.1.0,>=3.5.0->spacy-transformers) (3.4.1)\n",
      "Requirement already satisfied: filelock in /Users/albertsun/Library/Python/3.9/lib/python/site-packages (from torch>=1.8.0->spacy-transformers) (3.12.4)\n",
      "Requirement already satisfied: typing-extensions in /Users/albertsun/Library/Python/3.9/lib/python/site-packages (from torch>=1.8.0->spacy-transformers) (4.9.0)\n",
      "Requirement already satisfied: sympy in /Users/albertsun/Library/Python/3.9/lib/python/site-packages (from torch>=1.8.0->spacy-transformers) (1.12)\n",
      "Requirement already satisfied: networkx in /Users/albertsun/Library/Python/3.9/lib/python/site-packages (from torch>=1.8.0->spacy-transformers) (3.2.1)\n",
      "Requirement already satisfied: fsspec in /Users/albertsun/Library/Python/3.9/lib/python/site-packages (from torch>=1.8.0->spacy-transformers) (2023.10.0)\n",
      "Requirement already satisfied: huggingface-hub<1.0,>=0.19.3 in /Users/albertsun/Library/Python/3.9/lib/python/site-packages (from transformers<4.37.0,>=3.4.0->spacy-transformers) (0.19.4)\n",
      "Requirement already satisfied: pyyaml>=5.1 in /Users/albertsun/Library/Python/3.9/lib/python/site-packages (from transformers<4.37.0,>=3.4.0->spacy-transformers) (6.0.1)\n",
      "Requirement already satisfied: regex!=2019.12.17 in /Users/albertsun/Library/Python/3.9/lib/python/site-packages (from transformers<4.37.0,>=3.4.0->spacy-transformers) (2023.10.3)\n",
      "Requirement already satisfied: tokenizers<0.19,>=0.14 in /Users/albertsun/Library/Python/3.9/lib/python/site-packages (from transformers<4.37.0,>=3.4.0->spacy-transformers) (0.15.0)\n",
      "Requirement already satisfied: safetensors>=0.3.1 in /Users/albertsun/Library/Python/3.9/lib/python/site-packages (from transformers<4.37.0,>=3.4.0->spacy-transformers) (0.4.2)\n",
      "Requirement already satisfied: language-data>=1.2 in /Users/albertsun/Library/Python/3.9/lib/python/site-packages (from langcodes<4.0.0,>=3.2.0->spacy<4.1.0,>=3.5.0->spacy-transformers) (1.2.0)\n",
      "Requirement already satisfied: annotated-types>=0.4.0 in /Users/albertsun/Library/Python/3.9/lib/python/site-packages (from pydantic!=1.8,!=1.8.1,<3.0.0,>=1.7.4->spacy<4.1.0,>=3.5.0->spacy-transformers) (0.6.0)\n",
      "Requirement already satisfied: pydantic-core==2.14.6 in /Users/albertsun/Library/Python/3.9/lib/python/site-packages (from pydantic!=1.8,!=1.8.1,<3.0.0,>=1.7.4->spacy<4.1.0,>=3.5.0->spacy-transformers) (2.14.6)\n",
      "Requirement already satisfied: charset-normalizer<4,>=2 in /Users/albertsun/Library/Python/3.9/lib/python/site-packages (from requests<3.0.0,>=2.13.0->spacy<4.1.0,>=3.5.0->spacy-transformers) (3.1.0)\n",
      "Requirement already satisfied: idna<4,>=2.5 in /Users/albertsun/Library/Python/3.9/lib/python/site-packages (from requests<3.0.0,>=2.13.0->spacy<4.1.0,>=3.5.0->spacy-transformers) (3.4)\n",
      "Requirement already satisfied: urllib3<3,>=1.21.1 in /Users/albertsun/Library/Python/3.9/lib/python/site-packages (from requests<3.0.0,>=2.13.0->spacy<4.1.0,>=3.5.0->spacy-transformers) (1.26.16)\n",
      "Requirement already satisfied: certifi>=2017.4.17 in /Users/albertsun/Library/Python/3.9/lib/python/site-packages (from requests<3.0.0,>=2.13.0->spacy<4.1.0,>=3.5.0->spacy-transformers) (2023.5.7)\n",
      "Requirement already satisfied: blis<1.1.0,>=1.0.0 in /Users/albertsun/Library/Python/3.9/lib/python/site-packages (from thinc<8.4.0,>=8.3.0->spacy<4.1.0,>=3.5.0->spacy-transformers) (1.0.1)\n",
      "Requirement already satisfied: confection<1.0.0,>=0.0.1 in /Users/albertsun/Library/Python/3.9/lib/python/site-packages (from thinc<8.4.0,>=8.3.0->spacy<4.1.0,>=3.5.0->spacy-transformers) (0.1.5)\n",
      "Collecting numpy>=1.19.0 (from spacy-transformers)\n",
      "  Using cached numpy-2.0.2-cp39-cp39-macosx_14_0_arm64.whl.metadata (60 kB)\n",
      "Requirement already satisfied: click>=8.0.0 in /Users/albertsun/Library/Python/3.9/lib/python/site-packages (from typer<1.0.0,>=0.3.0->spacy<4.1.0,>=3.5.0->spacy-transformers) (8.1.3)\n",
      "Requirement already satisfied: shellingham>=1.3.0 in /Users/albertsun/Library/Python/3.9/lib/python/site-packages (from typer<1.0.0,>=0.3.0->spacy<4.1.0,>=3.5.0->spacy-transformers) (1.5.4)\n",
      "Requirement already satisfied: rich>=10.11.0 in /Users/albertsun/Library/Python/3.9/lib/python/site-packages (from typer<1.0.0,>=0.3.0->spacy<4.1.0,>=3.5.0->spacy-transformers) (13.9.4)\n",
      "Requirement already satisfied: cloudpathlib<1.0.0,>=0.7.0 in /Users/albertsun/Library/Python/3.9/lib/python/site-packages (from weasel<0.5.0,>=0.1.0->spacy<4.1.0,>=3.5.0->spacy-transformers) (0.20.0)\n",
      "Requirement already satisfied: smart-open<8.0.0,>=5.2.1 in /Users/albertsun/Library/Python/3.9/lib/python/site-packages (from weasel<0.5.0,>=0.1.0->spacy<4.1.0,>=3.5.0->spacy-transformers) (7.0.5)\n",
      "Requirement already satisfied: MarkupSafe>=2.0 in /Users/albertsun/Library/Python/3.9/lib/python/site-packages (from jinja2->spacy<4.1.0,>=3.5.0->spacy-transformers) (2.1.2)\n",
      "Requirement already satisfied: mpmath>=0.19 in /Users/albertsun/Library/Python/3.9/lib/python/site-packages (from sympy->torch>=1.8.0->spacy-transformers) (1.3.0)\n",
      "Requirement already satisfied: marisa-trie>=0.7.7 in /Users/albertsun/Library/Python/3.9/lib/python/site-packages (from language-data>=1.2->langcodes<4.0.0,>=3.2.0->spacy<4.1.0,>=3.5.0->spacy-transformers) (1.2.1)\n",
      "Requirement already satisfied: markdown-it-py>=2.2.0 in /Users/albertsun/Library/Python/3.9/lib/python/site-packages (from rich>=10.11.0->typer<1.0.0,>=0.3.0->spacy<4.1.0,>=3.5.0->spacy-transformers) (3.0.0)\n",
      "Requirement already satisfied: pygments<3.0.0,>=2.13.0 in /Users/albertsun/Library/Python/3.9/lib/python/site-packages (from rich>=10.11.0->typer<1.0.0,>=0.3.0->spacy<4.1.0,>=3.5.0->spacy-transformers) (2.17.2)\n",
      "Requirement already satisfied: wrapt in /Users/albertsun/Library/Python/3.9/lib/python/site-packages (from smart-open<8.0.0,>=5.2.1->weasel<0.5.0,>=0.1.0->spacy<4.1.0,>=3.5.0->spacy-transformers) (1.14.1)\n",
      "Requirement already satisfied: mdurl~=0.1 in /Users/albertsun/Library/Python/3.9/lib/python/site-packages (from markdown-it-py>=2.2.0->rich>=10.11.0->typer<1.0.0,>=0.3.0->spacy<4.1.0,>=3.5.0->spacy-transformers) (0.1.2)\n",
      "Downloading spacy_transformers-1.3.5-cp39-cp39-macosx_11_0_arm64.whl (175 kB)\n",
      "\u001b[2K   \u001b[90m━━━━━━━━━━━━━━━━━━━━━━━━━━━━━━━━━━━━━━━━\u001b[0m \u001b[32m175.1/175.1 kB\u001b[0m \u001b[31m6.7 MB/s\u001b[0m eta \u001b[36m0:00:00\u001b[0m\n",
      "\u001b[?25hDownloading spacy_alignments-0.9.1-cp39-cp39-macosx_11_0_arm64.whl (317 kB)\n",
      "\u001b[2K   \u001b[90m━━━━━━━━━━━━━━━━━━━━━━━━━━━━━━━━━━━━━━━━\u001b[0m \u001b[32m317.3/317.3 kB\u001b[0m \u001b[31m15.3 MB/s\u001b[0m eta \u001b[36m0:00:00\u001b[0m\n",
      "\u001b[?25hDownloading transformers-4.36.2-py3-none-any.whl (8.2 MB)\n",
      "\u001b[2K   \u001b[90m━━━━━━━━━━━━━━━━━━━━━━━━━━━━━━━━━━━━━━━━\u001b[0m \u001b[32m8.2/8.2 MB\u001b[0m \u001b[31m22.9 MB/s\u001b[0m eta \u001b[36m0:00:00\u001b[0m00:01\u001b[0m00:01\u001b[0m\n",
      "\u001b[?25hUsing cached numpy-2.0.2-cp39-cp39-macosx_14_0_arm64.whl (5.3 MB)\n",
      "Installing collected packages: spacy-alignments, numpy, transformers, spacy-transformers\n",
      "  Attempting uninstall: numpy\n",
      "    Found existing installation: numpy 1.26.4\n",
      "    Uninstalling numpy-1.26.4:\n",
      "      Successfully uninstalled numpy-1.26.4\n",
      "  Attempting uninstall: transformers\n",
      "    Found existing installation: transformers 4.38.1\n",
      "    Uninstalling transformers-4.38.1:\n",
      "      Successfully uninstalled transformers-4.38.1\n",
      "\u001b[31mERROR: pip's dependency resolver does not currently take into account all the packages that are installed. This behaviour is the source of the following dependency conflicts.\n",
      "contourpy 1.2.0 requires numpy<2.0,>=1.20, but you have numpy 2.0.2 which is incompatible.\n",
      "matplotlib 3.8.2 requires numpy<2,>=1.21, but you have numpy 2.0.2 which is incompatible.\n",
      "pandas 2.1.3 requires numpy<2,>=1.22.4; python_version < \"3.11\", but you have numpy 2.0.2 which is incompatible.\n",
      "pyembree 0.1.12 requires numpy<2.0.0,>=1.22.2, but you have numpy 2.0.2 which is incompatible.\n",
      "scipy 1.10.1 requires numpy<1.27.0,>=1.19.5, but you have numpy 2.0.2 which is incompatible.\u001b[0m\u001b[31m\n",
      "\u001b[0mSuccessfully installed numpy-2.0.2 spacy-alignments-0.9.1 spacy-transformers-1.3.5 transformers-4.36.2\n",
      "\n",
      "\u001b[1m[\u001b[0m\u001b[34;49mnotice\u001b[0m\u001b[1;39;49m]\u001b[0m\u001b[39;49m A new release of pip is available: \u001b[0m\u001b[31;49m24.0\u001b[0m\u001b[39;49m -> \u001b[0m\u001b[32;49m24.3.1\u001b[0m\n",
      "\u001b[1m[\u001b[0m\u001b[34;49mnotice\u001b[0m\u001b[1;39;49m]\u001b[0m\u001b[39;49m To update, run: \u001b[0m\u001b[32;49m/Library/Developer/CommandLineTools/usr/bin/python3 -m pip install --upgrade pip\u001b[0m\n"
     ]
    }
   ],
   "source": [
    "# !python3 -m spacy download en_core_web_trf\n",
    "!pip install spacy-transformers\n"
   ]
  },
  {
   "cell_type": "code",
   "execution_count": 1,
   "metadata": {},
   "outputs": [],
   "source": [
    "import spacy\n",
    "import spacy_transformers\n",
    "\n",
    "nlp = spacy.load(\"en_core_web_trf\")"
   ]
  },
  {
   "cell_type": "code",
   "execution_count": 1,
   "metadata": {},
   "outputs": [],
   "source": [
    "INPUT = \"\"\"Bistro: A Taste of Distributed Databases\n",
    "\n",
    "Bistro isn't just a fancy restaurant. It's a cutting-edge, distributed database management system designed for handling massive amounts of data across multiple servers. Let's break down its key components:\n",
    "\n",
    "**1. Distributed Architecture:**  Bistro's strength lies in its distributed nature.  Instead of storing all data on a single server, it splits the data across multiple servers, each handling a specific subset. This distributes the load and provides high availability. If one server fails, the others can continue operating, ensuring your data remains accessible.\n",
    "\n",
    "**2. Data Partitioning:**  To distribute data effectively, Bistro uses a technique called **data partitioning**.  It divides the data into smaller chunks (partitions) and distributes them across different servers. This allows for parallel processing, improving query performance.  \n",
    "\n",
    "**3. Replication:** Bistro replicates data across multiple servers to ensure data redundancy and high availability. If one server goes down, the replicated data on other servers ensures that your application can continue to function smoothly.\n",
    "\n",
    "**4. Consistency Model:** Bistro employs a **relaxed consistency model**. This means that data might not be immediately consistent across all servers, but it guarantees eventual consistency. This approach prioritizes performance and availability over strict, immediate consistency.\n",
    "\n",
    "**5. Fault Tolerance:**  Bistro is built to be resilient to failures. If one server fails, other servers can take over its responsibilities. This fault tolerance ensures that your data remains safe and accessible even in the face of unexpected issues.\n",
    "\n",
    "**Key Benefits:**\n",
    "\n",
    "* **Scalability:** Bistro's distributed architecture allows it to handle massive amounts of data and users without sacrificing performance.\n",
    "* **High Availability:** Data replication and fault tolerance guarantee that your application remains available even if one or more servers fail.\n",
    "* **Cost-Effectiveness:** By using multiple servers, Bistro can reduce the overall cost of hardware and infrastructure compared to traditional, centralized databases.\n",
    "\n",
    "**Think of Bistro like a highly organized restaurant kitchen. Each server is a chef responsible for preparing specific dishes (data partitions). The chefs work together seamlessly, ensuring that the dishes are prepared efficiently and served promptly (data is accessed quickly and reliably).  This collaborative approach makes Bistro a powerful and efficient solution for managing large amounts of data in today's distributed world.**\n",
    "\n",
    "**Note:** Bistro is a hypothetical system used for educational purposes. Real-world distributed database systems like Cassandra, MongoDB, and CockroachDB utilize similar concepts but have their own unique features and implementations\"\"\""
   ]
  },
  {
   "cell_type": "code",
   "execution_count": 3,
   "metadata": {},
   "outputs": [
    {
     "name": "stdout",
     "output_type": "stream",
     "text": [
      "A Taste of Distributed Databases 8 40 PERSON\n",
      "Bistro 42 48 ORG\n",
      "1 251 252 CARDINAL\n",
      "Bistro 283 289 ORG\n",
      "one 520 523 CARDINAL\n",
      "2 615 616 CARDINAL\n",
      "Bistro 672 678 ORG\n",
      "3 898 899 CARDINAL\n",
      "Bistro 916 922 ORG\n",
      "one 1015 1018 CARDINAL\n",
      "4 1142 1143 CARDINAL\n",
      "Bistro 1166 1172 ORG\n",
      "Bistro 1448 1454 ORG\n",
      "one 1496 1499 CARDINAL\n",
      "Bistro 1714 1720 ORG\n",
      "one 1955 1958 CARDINAL\n",
      "Bistro 2034 2040 ORG\n",
      "Bistro 2160 2166 ORG\n",
      "Bistro 2476 2482 ORG\n",
      "today 2555 2560 DATE\n",
      "Bistro 2595 2601 PRODUCT\n",
      "Cassandra 2703 2712 PRODUCT\n",
      "MongoDB 2714 2721 PRODUCT\n",
      "CockroachDB 2727 2738 PRODUCT\n"
     ]
    }
   ],
   "source": [
    "doc = nlp(INPUT)\n",
    "\n",
    "for ent in doc.ents:\n",
    "    print(ent.text, ent.start_char, ent.end_char, ent.label_)"
   ]
  },
  {
   "cell_type": "code",
   "execution_count": null,
   "metadata": {},
   "outputs": [
    {
     "name": "stdout",
     "output_type": "stream",
     "text": [
      "Defaulting to user installation because normal site-packages is not writeable\n",
      "Requirement already satisfied: openai in /Users/albertsun/Library/Python/3.9/lib/python/site-packages (0.27.8)\n",
      "Requirement already satisfied: requests>=2.20 in /Users/albertsun/Library/Python/3.9/lib/python/site-packages (from openai) (2.31.0)\n",
      "Requirement already satisfied: tqdm in /Users/albertsun/Library/Python/3.9/lib/python/site-packages (from openai) (4.65.0)\n",
      "Requirement already satisfied: aiohttp in /Users/albertsun/Library/Python/3.9/lib/python/site-packages (from openai) (3.9.1)\n",
      "Requirement already satisfied: charset-normalizer<4,>=2 in /Users/albertsun/Library/Python/3.9/lib/python/site-packages (from requests>=2.20->openai) (3.1.0)\n",
      "Requirement already satisfied: idna<4,>=2.5 in /Users/albertsun/Library/Python/3.9/lib/python/site-packages (from requests>=2.20->openai) (3.4)\n",
      "Requirement already satisfied: urllib3<3,>=1.21.1 in /Users/albertsun/Library/Python/3.9/lib/python/site-packages (from requests>=2.20->openai) (1.26.16)\n",
      "Requirement already satisfied: certifi>=2017.4.17 in /Users/albertsun/Library/Python/3.9/lib/python/site-packages (from requests>=2.20->openai) (2023.5.7)\n",
      "Requirement already satisfied: attrs>=17.3.0 in /Users/albertsun/Library/Python/3.9/lib/python/site-packages (from aiohttp->openai) (23.1.0)\n",
      "Requirement already satisfied: multidict<7.0,>=4.5 in /Users/albertsun/Library/Python/3.9/lib/python/site-packages (from aiohttp->openai) (6.0.4)\n",
      "Requirement already satisfied: yarl<2.0,>=1.0 in /Users/albertsun/Library/Python/3.9/lib/python/site-packages (from aiohttp->openai) (1.9.3)\n",
      "Requirement already satisfied: frozenlist>=1.1.1 in /Users/albertsun/Library/Python/3.9/lib/python/site-packages (from aiohttp->openai) (1.4.0)\n",
      "Requirement already satisfied: aiosignal>=1.1.2 in /Users/albertsun/Library/Python/3.9/lib/python/site-packages (from aiohttp->openai) (1.3.1)\n",
      "Requirement already satisfied: async-timeout<5.0,>=4.0 in /Users/albertsun/Library/Python/3.9/lib/python/site-packages (from aiohttp->openai) (4.0.3)\n",
      "\n",
      "\u001b[1m[\u001b[0m\u001b[34;49mnotice\u001b[0m\u001b[1;39;49m]\u001b[0m\u001b[39;49m A new release of pip is available: \u001b[0m\u001b[31;49m24.0\u001b[0m\u001b[39;49m -> \u001b[0m\u001b[32;49m24.3.1\u001b[0m\n",
      "\u001b[1m[\u001b[0m\u001b[34;49mnotice\u001b[0m\u001b[1;39;49m]\u001b[0m\u001b[39;49m To update, run: \u001b[0m\u001b[32;49m/Library/Developer/CommandLineTools/usr/bin/python3 -m pip install --upgrade pip\u001b[0m\n",
      "Note: you may need to restart the kernel to use updated packages.\n"
     ]
    }
   ],
   "source": [
    "%pip install openai\n",
    "%pip install bertopic\n"
   ]
  },
  {
   "cell_type": "code",
   "execution_count": 4,
   "metadata": {},
   "outputs": [
    {
     "ename": "AttributeError",
     "evalue": "module 'openai' has no attribute 'OpenAI'",
     "output_type": "error",
     "traceback": [
      "\u001b[0;31m---------------------------------------------------------------------------\u001b[0m",
      "\u001b[0;31mAttributeError\u001b[0m                            Traceback (most recent call last)",
      "Cell \u001b[0;32mIn[4], line 1\u001b[0m\n\u001b[0;32m----> 1\u001b[0m \u001b[38;5;28;01mfrom\u001b[39;00m \u001b[38;5;21;01mbertopic\u001b[39;00m \u001b[38;5;28;01mimport\u001b[39;00m BERTopic\n\u001b[1;32m      2\u001b[0m topic_model \u001b[38;5;241m=\u001b[39m BERTopic()\n\u001b[1;32m      3\u001b[0m topics, probs \u001b[38;5;241m=\u001b[39m topic_model\u001b[38;5;241m.\u001b[39mfit_transform(INPUT)\n",
      "File \u001b[0;32m~/Library/Python/3.9/lib/python/site-packages/bertopic/__init__.py:3\u001b[0m\n\u001b[1;32m      1\u001b[0m \u001b[38;5;28;01mfrom\u001b[39;00m \u001b[38;5;21;01mimportlib\u001b[39;00m\u001b[38;5;21;01m.\u001b[39;00m\u001b[38;5;21;01mmetadata\u001b[39;00m \u001b[38;5;28;01mimport\u001b[39;00m version\n\u001b[0;32m----> 3\u001b[0m \u001b[38;5;28;01mfrom\u001b[39;00m \u001b[38;5;21;01mbertopic\u001b[39;00m\u001b[38;5;21;01m.\u001b[39;00m\u001b[38;5;21;01m_bertopic\u001b[39;00m \u001b[38;5;28;01mimport\u001b[39;00m BERTopic\n\u001b[1;32m      5\u001b[0m __version__ \u001b[38;5;241m=\u001b[39m version(\u001b[38;5;124m\"\u001b[39m\u001b[38;5;124mbertopic\u001b[39m\u001b[38;5;124m\"\u001b[39m)\n\u001b[1;32m      7\u001b[0m __all__ \u001b[38;5;241m=\u001b[39m [\n\u001b[1;32m      8\u001b[0m     \u001b[38;5;124m\"\u001b[39m\u001b[38;5;124mBERTopic\u001b[39m\u001b[38;5;124m\"\u001b[39m,\n\u001b[1;32m      9\u001b[0m ]\n",
      "File \u001b[0;32m~/Library/Python/3.9/lib/python/site-packages/bertopic/_bertopic.py:51\u001b[0m\n\u001b[1;32m     49\u001b[0m \u001b[38;5;28;01mfrom\u001b[39;00m \u001b[38;5;21;01mbertopic\u001b[39;00m \u001b[38;5;28;01mimport\u001b[39;00m plotting\n\u001b[1;32m     50\u001b[0m \u001b[38;5;28;01mfrom\u001b[39;00m \u001b[38;5;21;01mbertopic\u001b[39;00m\u001b[38;5;21;01m.\u001b[39;00m\u001b[38;5;21;01mcluster\u001b[39;00m \u001b[38;5;28;01mimport\u001b[39;00m BaseCluster\n\u001b[0;32m---> 51\u001b[0m \u001b[38;5;28;01mfrom\u001b[39;00m \u001b[38;5;21;01mbertopic\u001b[39;00m\u001b[38;5;21;01m.\u001b[39;00m\u001b[38;5;21;01mbackend\u001b[39;00m \u001b[38;5;28;01mimport\u001b[39;00m BaseEmbedder\n\u001b[1;32m     52\u001b[0m \u001b[38;5;28;01mfrom\u001b[39;00m \u001b[38;5;21;01mbertopic\u001b[39;00m\u001b[38;5;21;01m.\u001b[39;00m\u001b[38;5;21;01mrepresentation\u001b[39;00m\u001b[38;5;21;01m.\u001b[39;00m\u001b[38;5;21;01m_mmr\u001b[39;00m \u001b[38;5;28;01mimport\u001b[39;00m mmr\n\u001b[1;32m     53\u001b[0m \u001b[38;5;28;01mfrom\u001b[39;00m \u001b[38;5;21;01mbertopic\u001b[39;00m\u001b[38;5;21;01m.\u001b[39;00m\u001b[38;5;21;01mbackend\u001b[39;00m\u001b[38;5;21;01m.\u001b[39;00m\u001b[38;5;21;01m_utils\u001b[39;00m \u001b[38;5;28;01mimport\u001b[39;00m select_backend\n",
      "File \u001b[0;32m~/Library/Python/3.9/lib/python/site-packages/bertopic/backend/__init__.py:8\u001b[0m\n\u001b[1;32m      6\u001b[0m \u001b[38;5;66;03m# OpenAI Embeddings\u001b[39;00m\n\u001b[1;32m      7\u001b[0m \u001b[38;5;28;01mtry\u001b[39;00m:\n\u001b[0;32m----> 8\u001b[0m     \u001b[38;5;28;01mfrom\u001b[39;00m \u001b[38;5;21;01mbertopic\u001b[39;00m\u001b[38;5;21;01m.\u001b[39;00m\u001b[38;5;21;01mbackend\u001b[39;00m\u001b[38;5;21;01m.\u001b[39;00m\u001b[38;5;21;01m_openai\u001b[39;00m \u001b[38;5;28;01mimport\u001b[39;00m OpenAIBackend\n\u001b[1;32m      9\u001b[0m \u001b[38;5;28;01mexcept\u001b[39;00m \u001b[38;5;167;01mModuleNotFoundError\u001b[39;00m:\n\u001b[1;32m     10\u001b[0m     msg \u001b[38;5;241m=\u001b[39m \u001b[38;5;124m\"\u001b[39m\u001b[38;5;124m`pip install openai` \u001b[39m\u001b[38;5;130;01m\\n\u001b[39;00m\u001b[38;5;130;01m\\n\u001b[39;00m\u001b[38;5;124m\"\u001b[39m\n",
      "File \u001b[0;32m~/Library/Python/3.9/lib/python/site-packages/bertopic/backend/_openai.py:9\u001b[0m\n\u001b[1;32m      5\u001b[0m \u001b[38;5;28;01mfrom\u001b[39;00m \u001b[38;5;21;01mtyping\u001b[39;00m \u001b[38;5;28;01mimport\u001b[39;00m List, Mapping, Any\n\u001b[1;32m      6\u001b[0m \u001b[38;5;28;01mfrom\u001b[39;00m \u001b[38;5;21;01mbertopic\u001b[39;00m\u001b[38;5;21;01m.\u001b[39;00m\u001b[38;5;21;01mbackend\u001b[39;00m \u001b[38;5;28;01mimport\u001b[39;00m BaseEmbedder\n\u001b[0;32m----> 9\u001b[0m \u001b[38;5;28;01mclass\u001b[39;00m \u001b[38;5;21;01mOpenAIBackend\u001b[39;00m(BaseEmbedder):\n\u001b[1;32m     10\u001b[0m \u001b[38;5;250m    \u001b[39m\u001b[38;5;124;03m\"\"\"OpenAI Embedding Model.\u001b[39;00m\n\u001b[1;32m     11\u001b[0m \n\u001b[1;32m     12\u001b[0m \u001b[38;5;124;03m    Arguments:\u001b[39;00m\n\u001b[0;32m   (...)\u001b[0m\n\u001b[1;32m     31\u001b[0m \u001b[38;5;124;03m    ```\u001b[39;00m\n\u001b[1;32m     32\u001b[0m \u001b[38;5;124;03m    \"\"\"\u001b[39;00m\n\u001b[1;32m     34\u001b[0m     \u001b[38;5;28;01mdef\u001b[39;00m \u001b[38;5;21m__init__\u001b[39m(\n\u001b[1;32m     35\u001b[0m         \u001b[38;5;28mself\u001b[39m,\n\u001b[1;32m     36\u001b[0m         client: openai\u001b[38;5;241m.\u001b[39mOpenAI,\n\u001b[0;32m   (...)\u001b[0m\n\u001b[1;32m     40\u001b[0m         generator_kwargs: Mapping[\u001b[38;5;28mstr\u001b[39m, Any] \u001b[38;5;241m=\u001b[39m {},\n\u001b[1;32m     41\u001b[0m     ):\n",
      "File \u001b[0;32m~/Library/Python/3.9/lib/python/site-packages/bertopic/backend/_openai.py:36\u001b[0m, in \u001b[0;36mOpenAIBackend\u001b[0;34m()\u001b[0m\n\u001b[1;32m      9\u001b[0m \u001b[38;5;28;01mclass\u001b[39;00m \u001b[38;5;21;01mOpenAIBackend\u001b[39;00m(BaseEmbedder):\n\u001b[1;32m     10\u001b[0m \u001b[38;5;250m    \u001b[39m\u001b[38;5;124;03m\"\"\"OpenAI Embedding Model.\u001b[39;00m\n\u001b[1;32m     11\u001b[0m \n\u001b[1;32m     12\u001b[0m \u001b[38;5;124;03m    Arguments:\u001b[39;00m\n\u001b[0;32m   (...)\u001b[0m\n\u001b[1;32m     31\u001b[0m \u001b[38;5;124;03m    ```\u001b[39;00m\n\u001b[1;32m     32\u001b[0m \u001b[38;5;124;03m    \"\"\"\u001b[39;00m\n\u001b[1;32m     34\u001b[0m     \u001b[38;5;28;01mdef\u001b[39;00m \u001b[38;5;21m__init__\u001b[39m(\n\u001b[1;32m     35\u001b[0m         \u001b[38;5;28mself\u001b[39m,\n\u001b[0;32m---> 36\u001b[0m         client: \u001b[43mopenai\u001b[49m\u001b[38;5;241;43m.\u001b[39;49m\u001b[43mOpenAI\u001b[49m,\n\u001b[1;32m     37\u001b[0m         embedding_model: \u001b[38;5;28mstr\u001b[39m \u001b[38;5;241m=\u001b[39m \u001b[38;5;124m\"\u001b[39m\u001b[38;5;124mtext-embedding-ada-002\u001b[39m\u001b[38;5;124m\"\u001b[39m,\n\u001b[1;32m     38\u001b[0m         delay_in_seconds: \u001b[38;5;28mfloat\u001b[39m \u001b[38;5;241m=\u001b[39m \u001b[38;5;28;01mNone\u001b[39;00m,\n\u001b[1;32m     39\u001b[0m         batch_size: \u001b[38;5;28mint\u001b[39m \u001b[38;5;241m=\u001b[39m \u001b[38;5;28;01mNone\u001b[39;00m,\n\u001b[1;32m     40\u001b[0m         generator_kwargs: Mapping[\u001b[38;5;28mstr\u001b[39m, Any] \u001b[38;5;241m=\u001b[39m {},\n\u001b[1;32m     41\u001b[0m     ):\n\u001b[1;32m     42\u001b[0m         \u001b[38;5;28msuper\u001b[39m()\u001b[38;5;241m.\u001b[39m\u001b[38;5;21m__init__\u001b[39m()\n\u001b[1;32m     43\u001b[0m         \u001b[38;5;28mself\u001b[39m\u001b[38;5;241m.\u001b[39mclient \u001b[38;5;241m=\u001b[39m client\n",
      "\u001b[0;31mAttributeError\u001b[0m: module 'openai' has no attribute 'OpenAI'"
     ]
    }
   ],
   "source": [
    "from bertopic import BERTopic\n",
    "topic_model = BERTopic()\n",
    "topics, probs = topic_model.fit_transform(INPUT)"
   ]
  },
  {
   "cell_type": "code",
   "execution_count": null,
   "metadata": {},
   "outputs": [],
   "source": [
    "topic_model.get_topic_info()"
   ]
  },
  {
   "cell_type": "markdown",
   "metadata": {},
   "source": [
    "The large dataset `en_core_web_trf` works, identifying the \"products\" or technologies mentioned. However it would be ideal if it could recognize more domain specifc keywords, such as \"distributed architecture\", \"data replication\", or \"fault tolerance\""
   ]
  }
 ],
 "metadata": {
  "kernelspec": {
   "display_name": "Python 3",
   "language": "python",
   "name": "python3"
  },
  "language_info": {
   "codemirror_mode": {
    "name": "ipython",
    "version": 3
   },
   "file_extension": ".py",
   "mimetype": "text/x-python",
   "name": "python",
   "nbconvert_exporter": "python",
   "pygments_lexer": "ipython3",
   "version": "3.9.6"
  }
 },
 "nbformat": 4,
 "nbformat_minor": 2
}
